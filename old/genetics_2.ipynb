{
 "cells": [
  {
   "cell_type": "code",
   "execution_count": 1,
   "metadata": {},
   "outputs": [],
   "source": [
    "import numpy as np\n",
    "import pandas as pd\n",
    "import matplotlib.pyplot as plt\n",
    "\n",
    "from sklearn.metrics import accuracy_score, recall_score, precision_score\n",
    "from sklearn.metrics import f1_score, make_scorer\n",
    "from sklearn.model_selection import cross_validate, StratifiedKFold, train_test_split\n",
    "\n",
    "from sklearn.svm import SVC\n",
    "from sklearn.dummy import DummyClassifier\n",
    "from sklearn.tree import DecisionTreeClassifier\n",
    "from sklearn.neighbors import KNeighborsClassifier\n",
    "from sklearn.linear_model import LogisticRegression\n",
    "from sklearn.ensemble import RandomForestClassifier\n",
    "from xgboost import XGBClassifier"
   ]
  },
  {
   "cell_type": "code",
   "execution_count": 2,
   "metadata": {},
   "outputs": [],
   "source": [
    "from sklearn.manifold import MDS, TSNE\n",
    "from sklearn.decomposition import PCA\n",
    "from sklearn.preprocessing import StandardScaler"
   ]
  },
  {
   "cell_type": "code",
   "execution_count": 3,
   "metadata": {},
   "outputs": [],
   "source": [
    "X = np.load('data/data_2/X.npy').astype(np.int8)\n",
    "y = np.load('data/data_2/y.npy').astype(np.int8)"
   ]
  },
  {
   "cell_type": "code",
   "execution_count": 4,
   "metadata": {},
   "outputs": [
    {
     "data": {
      "text/plain": [
       "(array([1, 2], dtype=int8), array([305, 923]))"
      ]
     },
     "execution_count": 4,
     "metadata": {},
     "output_type": "execute_result"
    }
   ],
   "source": [
    "np.unique(y, return_counts=True)"
   ]
  },
  {
   "cell_type": "code",
   "execution_count": 5,
   "metadata": {},
   "outputs": [
    {
     "data": {
      "text/plain": [
       "['DummyClassifier',\n",
       " 'LogisticRegression',\n",
       " 'SVC',\n",
       " 'DecisionTreeClassifier',\n",
       " 'RandomForestClassifier',\n",
       " 'KNeighborsClassifier',\n",
       " 'XGBClassifier']"
      ]
     },
     "execution_count": 5,
     "metadata": {},
     "output_type": "execute_result"
    }
   ],
   "source": [
    "model_names = []\n",
    "for model in [DummyClassifier, LogisticRegression, SVC,\n",
    "              DecisionTreeClassifier, RandomForestClassifier,\n",
    "              KNeighborsClassifier, XGBClassifier]:\n",
    "    model_names.append(model.__name__)\n",
    "\n",
    "model_names"
   ]
  },
  {
   "cell_type": "code",
   "execution_count": 6,
   "metadata": {},
   "outputs": [],
   "source": [
    "scoring = {'accuracy': 'accuracy',\n",
    "           'precision': make_scorer(recall_score, pos_label=2),\n",
    "           'recall': make_scorer(precision_score, pos_label=2, zero_division=0),\n",
    "           'F1-score': 'f1',\n",
    "           'recall -': make_scorer(recall_score, pos_label=1),\n",
    "           'precision -': make_scorer(precision_score, pos_label=1, zero_division=0),\n",
    "           }\n",
    "\n",
    "scores_df = pd.DataFrame(index=model_names, columns=list(scoring.keys()))"
   ]
  },
  {
   "cell_type": "code",
   "execution_count": 7,
   "metadata": {},
   "outputs": [],
   "source": [
    "clf = DummyClassifier()\n",
    "scores = cross_validate(clf, X, y, cv=5, scoring=scoring, n_jobs=-1)\n",
    "mean_scores = pd.DataFrame(scores).apply(np.mean)"
   ]
  },
  {
   "cell_type": "code",
   "execution_count": 8,
   "metadata": {},
   "outputs": [
    {
     "data": {
      "text/html": [
       "<div>\n",
       "<style scoped>\n",
       "    .dataframe tbody tr th:only-of-type {\n",
       "        vertical-align: middle;\n",
       "    }\n",
       "\n",
       "    .dataframe tbody tr th {\n",
       "        vertical-align: top;\n",
       "    }\n",
       "\n",
       "    .dataframe thead th {\n",
       "        text-align: right;\n",
       "    }\n",
       "</style>\n",
       "<table border=\"1\" class=\"dataframe\">\n",
       "  <thead>\n",
       "    <tr style=\"text-align: right;\">\n",
       "      <th></th>\n",
       "      <th>accuracy</th>\n",
       "      <th>precision</th>\n",
       "      <th>recall</th>\n",
       "      <th>F1-score</th>\n",
       "      <th>recall -</th>\n",
       "      <th>precision -</th>\n",
       "    </tr>\n",
       "  </thead>\n",
       "  <tbody>\n",
       "    <tr>\n",
       "      <th>DummyClassifier</th>\n",
       "      <td>0.751628</td>\n",
       "      <td>1.0</td>\n",
       "      <td>0.751628</td>\n",
       "      <td>0.0</td>\n",
       "      <td>0.0</td>\n",
       "      <td>0.0</td>\n",
       "    </tr>\n",
       "    <tr>\n",
       "      <th>LogisticRegression</th>\n",
       "      <td>NaN</td>\n",
       "      <td>NaN</td>\n",
       "      <td>NaN</td>\n",
       "      <td>NaN</td>\n",
       "      <td>NaN</td>\n",
       "      <td>NaN</td>\n",
       "    </tr>\n",
       "    <tr>\n",
       "      <th>SVC</th>\n",
       "      <td>NaN</td>\n",
       "      <td>NaN</td>\n",
       "      <td>NaN</td>\n",
       "      <td>NaN</td>\n",
       "      <td>NaN</td>\n",
       "      <td>NaN</td>\n",
       "    </tr>\n",
       "    <tr>\n",
       "      <th>DecisionTreeClassifier</th>\n",
       "      <td>NaN</td>\n",
       "      <td>NaN</td>\n",
       "      <td>NaN</td>\n",
       "      <td>NaN</td>\n",
       "      <td>NaN</td>\n",
       "      <td>NaN</td>\n",
       "    </tr>\n",
       "    <tr>\n",
       "      <th>RandomForestClassifier</th>\n",
       "      <td>NaN</td>\n",
       "      <td>NaN</td>\n",
       "      <td>NaN</td>\n",
       "      <td>NaN</td>\n",
       "      <td>NaN</td>\n",
       "      <td>NaN</td>\n",
       "    </tr>\n",
       "    <tr>\n",
       "      <th>KNeighborsClassifier</th>\n",
       "      <td>NaN</td>\n",
       "      <td>NaN</td>\n",
       "      <td>NaN</td>\n",
       "      <td>NaN</td>\n",
       "      <td>NaN</td>\n",
       "      <td>NaN</td>\n",
       "    </tr>\n",
       "    <tr>\n",
       "      <th>XGBClassifier</th>\n",
       "      <td>NaN</td>\n",
       "      <td>NaN</td>\n",
       "      <td>NaN</td>\n",
       "      <td>NaN</td>\n",
       "      <td>NaN</td>\n",
       "      <td>NaN</td>\n",
       "    </tr>\n",
       "  </tbody>\n",
       "</table>\n",
       "</div>"
      ],
      "text/plain": [
       "                        accuracy precision    recall F1-score recall -  \\\n",
       "DummyClassifier         0.751628       1.0  0.751628      0.0      0.0   \n",
       "LogisticRegression           NaN       NaN       NaN      NaN      NaN   \n",
       "SVC                          NaN       NaN       NaN      NaN      NaN   \n",
       "DecisionTreeClassifier       NaN       NaN       NaN      NaN      NaN   \n",
       "RandomForestClassifier       NaN       NaN       NaN      NaN      NaN   \n",
       "KNeighborsClassifier         NaN       NaN       NaN      NaN      NaN   \n",
       "XGBClassifier                NaN       NaN       NaN      NaN      NaN   \n",
       "\n",
       "                       precision -  \n",
       "DummyClassifier                0.0  \n",
       "LogisticRegression             NaN  \n",
       "SVC                            NaN  \n",
       "DecisionTreeClassifier         NaN  \n",
       "RandomForestClassifier         NaN  \n",
       "KNeighborsClassifier           NaN  \n",
       "XGBClassifier                  NaN  "
      ]
     },
     "execution_count": 8,
     "metadata": {},
     "output_type": "execute_result"
    }
   ],
   "source": [
    "scores_df.loc[type(clf).__name__] = mean_scores.values[2:]\n",
    "scores_df"
   ]
  },
  {
   "cell_type": "code",
   "execution_count": 9,
   "metadata": {},
   "outputs": [],
   "source": [
    "clf = LogisticRegression(n_jobs=-1)\n",
    "scores = cross_validate(clf, X, y, cv=5, scoring=scoring, n_jobs=6)\n",
    "mean_scores = pd.DataFrame(scores).apply(np.mean)"
   ]
  },
  {
   "cell_type": "code",
   "execution_count": 10,
   "metadata": {},
   "outputs": [
    {
     "data": {
      "text/html": [
       "<div>\n",
       "<style scoped>\n",
       "    .dataframe tbody tr th:only-of-type {\n",
       "        vertical-align: middle;\n",
       "    }\n",
       "\n",
       "    .dataframe tbody tr th {\n",
       "        vertical-align: top;\n",
       "    }\n",
       "\n",
       "    .dataframe thead th {\n",
       "        text-align: right;\n",
       "    }\n",
       "</style>\n",
       "<table border=\"1\" class=\"dataframe\">\n",
       "  <thead>\n",
       "    <tr style=\"text-align: right;\">\n",
       "      <th></th>\n",
       "      <th>accuracy</th>\n",
       "      <th>precision</th>\n",
       "      <th>recall</th>\n",
       "      <th>F1-score</th>\n",
       "      <th>recall -</th>\n",
       "      <th>precision -</th>\n",
       "    </tr>\n",
       "  </thead>\n",
       "  <tbody>\n",
       "    <tr>\n",
       "      <th>DummyClassifier</th>\n",
       "      <td>0.751628</td>\n",
       "      <td>1.0</td>\n",
       "      <td>0.751628</td>\n",
       "      <td>0.0</td>\n",
       "      <td>0.0</td>\n",
       "      <td>0.0</td>\n",
       "    </tr>\n",
       "    <tr>\n",
       "      <th>LogisticRegression</th>\n",
       "      <td>0.751628</td>\n",
       "      <td>1.0</td>\n",
       "      <td>0.751628</td>\n",
       "      <td>0.0</td>\n",
       "      <td>0.0</td>\n",
       "      <td>0.0</td>\n",
       "    </tr>\n",
       "    <tr>\n",
       "      <th>SVC</th>\n",
       "      <td>NaN</td>\n",
       "      <td>NaN</td>\n",
       "      <td>NaN</td>\n",
       "      <td>NaN</td>\n",
       "      <td>NaN</td>\n",
       "      <td>NaN</td>\n",
       "    </tr>\n",
       "    <tr>\n",
       "      <th>DecisionTreeClassifier</th>\n",
       "      <td>NaN</td>\n",
       "      <td>NaN</td>\n",
       "      <td>NaN</td>\n",
       "      <td>NaN</td>\n",
       "      <td>NaN</td>\n",
       "      <td>NaN</td>\n",
       "    </tr>\n",
       "    <tr>\n",
       "      <th>RandomForestClassifier</th>\n",
       "      <td>NaN</td>\n",
       "      <td>NaN</td>\n",
       "      <td>NaN</td>\n",
       "      <td>NaN</td>\n",
       "      <td>NaN</td>\n",
       "      <td>NaN</td>\n",
       "    </tr>\n",
       "    <tr>\n",
       "      <th>KNeighborsClassifier</th>\n",
       "      <td>NaN</td>\n",
       "      <td>NaN</td>\n",
       "      <td>NaN</td>\n",
       "      <td>NaN</td>\n",
       "      <td>NaN</td>\n",
       "      <td>NaN</td>\n",
       "    </tr>\n",
       "    <tr>\n",
       "      <th>XGBClassifier</th>\n",
       "      <td>NaN</td>\n",
       "      <td>NaN</td>\n",
       "      <td>NaN</td>\n",
       "      <td>NaN</td>\n",
       "      <td>NaN</td>\n",
       "      <td>NaN</td>\n",
       "    </tr>\n",
       "  </tbody>\n",
       "</table>\n",
       "</div>"
      ],
      "text/plain": [
       "                        accuracy precision    recall F1-score recall -  \\\n",
       "DummyClassifier         0.751628       1.0  0.751628      0.0      0.0   \n",
       "LogisticRegression      0.751628       1.0  0.751628      0.0      0.0   \n",
       "SVC                          NaN       NaN       NaN      NaN      NaN   \n",
       "DecisionTreeClassifier       NaN       NaN       NaN      NaN      NaN   \n",
       "RandomForestClassifier       NaN       NaN       NaN      NaN      NaN   \n",
       "KNeighborsClassifier         NaN       NaN       NaN      NaN      NaN   \n",
       "XGBClassifier                NaN       NaN       NaN      NaN      NaN   \n",
       "\n",
       "                       precision -  \n",
       "DummyClassifier                0.0  \n",
       "LogisticRegression             0.0  \n",
       "SVC                            NaN  \n",
       "DecisionTreeClassifier         NaN  \n",
       "RandomForestClassifier         NaN  \n",
       "KNeighborsClassifier           NaN  \n",
       "XGBClassifier                  NaN  "
      ]
     },
     "execution_count": 10,
     "metadata": {},
     "output_type": "execute_result"
    }
   ],
   "source": [
    "scores_df.loc[type(clf).__name__] = mean_scores.values[2:]\n",
    "scores_df"
   ]
  },
  {
   "cell_type": "code",
   "execution_count": 11,
   "metadata": {},
   "outputs": [
    {
     "data": {
      "text/plain": [
       "fit_time            3.967586\n",
       "score_time          0.055448\n",
       "test_accuracy       0.740226\n",
       "test_precision      0.970752\n",
       "test_recall         0.754251\n",
       "test_F1-score       0.072606\n",
       "test_recall -       0.042623\n",
       "test_precision -    0.346905\n",
       "dtype: float64"
      ]
     },
     "execution_count": 11,
     "metadata": {},
     "output_type": "execute_result"
    }
   ],
   "source": [
    "clf = LogisticRegression(solver='liblinear', penalty='l1')\n",
    "scores = cross_validate(clf, X, y, cv=5, scoring=scoring, n_jobs=2)\n",
    "mean_scores = pd.DataFrame(scores).apply(np.mean)\n",
    "mean_scores"
   ]
  },
  {
   "cell_type": "code",
   "execution_count": 12,
   "metadata": {},
   "outputs": [
    {
     "data": {
      "text/html": [
       "<div>\n",
       "<style scoped>\n",
       "    .dataframe tbody tr th:only-of-type {\n",
       "        vertical-align: middle;\n",
       "    }\n",
       "\n",
       "    .dataframe tbody tr th {\n",
       "        vertical-align: top;\n",
       "    }\n",
       "\n",
       "    .dataframe thead th {\n",
       "        text-align: right;\n",
       "    }\n",
       "</style>\n",
       "<table border=\"1\" class=\"dataframe\">\n",
       "  <thead>\n",
       "    <tr style=\"text-align: right;\">\n",
       "      <th></th>\n",
       "      <th>accuracy</th>\n",
       "      <th>precision</th>\n",
       "      <th>recall</th>\n",
       "      <th>F1-score</th>\n",
       "      <th>recall -</th>\n",
       "      <th>precision -</th>\n",
       "    </tr>\n",
       "  </thead>\n",
       "  <tbody>\n",
       "    <tr>\n",
       "      <th>DummyClassifier</th>\n",
       "      <td>0.751628</td>\n",
       "      <td>1.000000</td>\n",
       "      <td>0.751628</td>\n",
       "      <td>0.000000</td>\n",
       "      <td>0.000000</td>\n",
       "      <td>0.000000</td>\n",
       "    </tr>\n",
       "    <tr>\n",
       "      <th>LogisticRegression</th>\n",
       "      <td>0.740226</td>\n",
       "      <td>0.970752</td>\n",
       "      <td>0.754251</td>\n",
       "      <td>0.072606</td>\n",
       "      <td>0.042623</td>\n",
       "      <td>0.346905</td>\n",
       "    </tr>\n",
       "    <tr>\n",
       "      <th>SVC</th>\n",
       "      <td>NaN</td>\n",
       "      <td>NaN</td>\n",
       "      <td>NaN</td>\n",
       "      <td>NaN</td>\n",
       "      <td>NaN</td>\n",
       "      <td>NaN</td>\n",
       "    </tr>\n",
       "    <tr>\n",
       "      <th>DecisionTreeClassifier</th>\n",
       "      <td>NaN</td>\n",
       "      <td>NaN</td>\n",
       "      <td>NaN</td>\n",
       "      <td>NaN</td>\n",
       "      <td>NaN</td>\n",
       "      <td>NaN</td>\n",
       "    </tr>\n",
       "    <tr>\n",
       "      <th>RandomForestClassifier</th>\n",
       "      <td>NaN</td>\n",
       "      <td>NaN</td>\n",
       "      <td>NaN</td>\n",
       "      <td>NaN</td>\n",
       "      <td>NaN</td>\n",
       "      <td>NaN</td>\n",
       "    </tr>\n",
       "    <tr>\n",
       "      <th>KNeighborsClassifier</th>\n",
       "      <td>NaN</td>\n",
       "      <td>NaN</td>\n",
       "      <td>NaN</td>\n",
       "      <td>NaN</td>\n",
       "      <td>NaN</td>\n",
       "      <td>NaN</td>\n",
       "    </tr>\n",
       "    <tr>\n",
       "      <th>XGBClassifier</th>\n",
       "      <td>NaN</td>\n",
       "      <td>NaN</td>\n",
       "      <td>NaN</td>\n",
       "      <td>NaN</td>\n",
       "      <td>NaN</td>\n",
       "      <td>NaN</td>\n",
       "    </tr>\n",
       "  </tbody>\n",
       "</table>\n",
       "</div>"
      ],
      "text/plain": [
       "                        accuracy precision    recall  F1-score  recall -  \\\n",
       "DummyClassifier         0.751628  1.000000  0.751628  0.000000  0.000000   \n",
       "LogisticRegression      0.740226  0.970752  0.754251  0.072606  0.042623   \n",
       "SVC                          NaN       NaN       NaN       NaN       NaN   \n",
       "DecisionTreeClassifier       NaN       NaN       NaN       NaN       NaN   \n",
       "RandomForestClassifier       NaN       NaN       NaN       NaN       NaN   \n",
       "KNeighborsClassifier         NaN       NaN       NaN       NaN       NaN   \n",
       "XGBClassifier                NaN       NaN       NaN       NaN       NaN   \n",
       "\n",
       "                       precision -  \n",
       "DummyClassifier           0.000000  \n",
       "LogisticRegression        0.346905  \n",
       "SVC                            NaN  \n",
       "DecisionTreeClassifier         NaN  \n",
       "RandomForestClassifier         NaN  \n",
       "KNeighborsClassifier           NaN  \n",
       "XGBClassifier                  NaN  "
      ]
     },
     "execution_count": 12,
     "metadata": {},
     "output_type": "execute_result"
    }
   ],
   "source": [
    "scores_df.loc[type(clf).__name__] = mean_scores.values[2:]\n",
    "scores_df"
   ]
  },
  {
   "cell_type": "code",
   "execution_count": 13,
   "metadata": {},
   "outputs": [],
   "source": [
    "# clf = SVC()\n",
    "# scores = cross_validate(clf, X, y, cv=5, scoring=scoring, n_jobs=-1)\n",
    "# mean_scores = pd.DataFrame(scores).apply(np.mean)\n",
    "# mean_scores"
   ]
  },
  {
   "cell_type": "code",
   "execution_count": 14,
   "metadata": {},
   "outputs": [
    {
     "data": {
      "text/plain": [
       "fit_time            36.904788\n",
       "score_time           0.052893\n",
       "test_accuracy        0.635995\n",
       "test_precision       0.747526\n",
       "test_recall          0.763606\n",
       "test_F1-score        0.287662\n",
       "test_recall -        0.298361\n",
       "test_precision -     0.278632\n",
       "dtype: float64"
      ]
     },
     "execution_count": 14,
     "metadata": {},
     "output_type": "execute_result"
    }
   ],
   "source": [
    "clf = DecisionTreeClassifier()\n",
    "scores = cross_validate(clf, X, y, cv=5, scoring=scoring, n_jobs=-1)\n",
    "mean_scores = pd.DataFrame(scores).apply(np.mean)\n",
    "mean_scores"
   ]
  },
  {
   "cell_type": "code",
   "execution_count": 15,
   "metadata": {},
   "outputs": [
    {
     "data": {
      "text/html": [
       "<div>\n",
       "<style scoped>\n",
       "    .dataframe tbody tr th:only-of-type {\n",
       "        vertical-align: middle;\n",
       "    }\n",
       "\n",
       "    .dataframe tbody tr th {\n",
       "        vertical-align: top;\n",
       "    }\n",
       "\n",
       "    .dataframe thead th {\n",
       "        text-align: right;\n",
       "    }\n",
       "</style>\n",
       "<table border=\"1\" class=\"dataframe\">\n",
       "  <thead>\n",
       "    <tr style=\"text-align: right;\">\n",
       "      <th></th>\n",
       "      <th>accuracy</th>\n",
       "      <th>precision</th>\n",
       "      <th>recall</th>\n",
       "      <th>F1-score</th>\n",
       "      <th>recall -</th>\n",
       "      <th>precision -</th>\n",
       "    </tr>\n",
       "  </thead>\n",
       "  <tbody>\n",
       "    <tr>\n",
       "      <th>DummyClassifier</th>\n",
       "      <td>0.751628</td>\n",
       "      <td>1.000000</td>\n",
       "      <td>0.751628</td>\n",
       "      <td>0.000000</td>\n",
       "      <td>0.000000</td>\n",
       "      <td>0.000000</td>\n",
       "    </tr>\n",
       "    <tr>\n",
       "      <th>LogisticRegression</th>\n",
       "      <td>0.740226</td>\n",
       "      <td>0.970752</td>\n",
       "      <td>0.754251</td>\n",
       "      <td>0.072606</td>\n",
       "      <td>0.042623</td>\n",
       "      <td>0.346905</td>\n",
       "    </tr>\n",
       "    <tr>\n",
       "      <th>SVC</th>\n",
       "      <td>NaN</td>\n",
       "      <td>NaN</td>\n",
       "      <td>NaN</td>\n",
       "      <td>NaN</td>\n",
       "      <td>NaN</td>\n",
       "      <td>NaN</td>\n",
       "    </tr>\n",
       "    <tr>\n",
       "      <th>DecisionTreeClassifier</th>\n",
       "      <td>0.635995</td>\n",
       "      <td>0.747526</td>\n",
       "      <td>0.763606</td>\n",
       "      <td>0.287662</td>\n",
       "      <td>0.298361</td>\n",
       "      <td>0.278632</td>\n",
       "    </tr>\n",
       "    <tr>\n",
       "      <th>RandomForestClassifier</th>\n",
       "      <td>NaN</td>\n",
       "      <td>NaN</td>\n",
       "      <td>NaN</td>\n",
       "      <td>NaN</td>\n",
       "      <td>NaN</td>\n",
       "      <td>NaN</td>\n",
       "    </tr>\n",
       "    <tr>\n",
       "      <th>KNeighborsClassifier</th>\n",
       "      <td>NaN</td>\n",
       "      <td>NaN</td>\n",
       "      <td>NaN</td>\n",
       "      <td>NaN</td>\n",
       "      <td>NaN</td>\n",
       "      <td>NaN</td>\n",
       "    </tr>\n",
       "    <tr>\n",
       "      <th>XGBClassifier</th>\n",
       "      <td>NaN</td>\n",
       "      <td>NaN</td>\n",
       "      <td>NaN</td>\n",
       "      <td>NaN</td>\n",
       "      <td>NaN</td>\n",
       "      <td>NaN</td>\n",
       "    </tr>\n",
       "  </tbody>\n",
       "</table>\n",
       "</div>"
      ],
      "text/plain": [
       "                        accuracy precision    recall  F1-score  recall -  \\\n",
       "DummyClassifier         0.751628  1.000000  0.751628  0.000000  0.000000   \n",
       "LogisticRegression      0.740226  0.970752  0.754251  0.072606  0.042623   \n",
       "SVC                          NaN       NaN       NaN       NaN       NaN   \n",
       "DecisionTreeClassifier  0.635995  0.747526  0.763606  0.287662  0.298361   \n",
       "RandomForestClassifier       NaN       NaN       NaN       NaN       NaN   \n",
       "KNeighborsClassifier         NaN       NaN       NaN       NaN       NaN   \n",
       "XGBClassifier                NaN       NaN       NaN       NaN       NaN   \n",
       "\n",
       "                       precision -  \n",
       "DummyClassifier           0.000000  \n",
       "LogisticRegression        0.346905  \n",
       "SVC                            NaN  \n",
       "DecisionTreeClassifier    0.278632  \n",
       "RandomForestClassifier         NaN  \n",
       "KNeighborsClassifier           NaN  \n",
       "XGBClassifier                  NaN  "
      ]
     },
     "execution_count": 15,
     "metadata": {},
     "output_type": "execute_result"
    }
   ],
   "source": [
    "scores_df.loc[type(clf).__name__] = mean_scores.values[2:]\n",
    "scores_df"
   ]
  },
  {
   "cell_type": "code",
   "execution_count": 16,
   "metadata": {},
   "outputs": [
    {
     "data": {
      "text/plain": [
       "fit_time            8.157770\n",
       "score_time          0.080295\n",
       "test_accuracy       0.751628\n",
       "test_precision      1.000000\n",
       "test_recall         0.751628\n",
       "test_F1-score       0.000000\n",
       "test_recall -       0.000000\n",
       "test_precision -    0.000000\n",
       "dtype: float64"
      ]
     },
     "execution_count": 16,
     "metadata": {},
     "output_type": "execute_result"
    }
   ],
   "source": [
    "clf = RandomForestClassifier()\n",
    "scores = cross_validate(clf, X, y, cv=5, scoring=scoring, n_jobs=-1)\n",
    "mean_scores = pd.DataFrame(scores).apply(np.mean)\n",
    "mean_scores"
   ]
  },
  {
   "cell_type": "code",
   "execution_count": 17,
   "metadata": {},
   "outputs": [
    {
     "data": {
      "text/html": [
       "<div>\n",
       "<style scoped>\n",
       "    .dataframe tbody tr th:only-of-type {\n",
       "        vertical-align: middle;\n",
       "    }\n",
       "\n",
       "    .dataframe tbody tr th {\n",
       "        vertical-align: top;\n",
       "    }\n",
       "\n",
       "    .dataframe thead th {\n",
       "        text-align: right;\n",
       "    }\n",
       "</style>\n",
       "<table border=\"1\" class=\"dataframe\">\n",
       "  <thead>\n",
       "    <tr style=\"text-align: right;\">\n",
       "      <th></th>\n",
       "      <th>accuracy</th>\n",
       "      <th>precision</th>\n",
       "      <th>recall</th>\n",
       "      <th>F1-score</th>\n",
       "      <th>recall -</th>\n",
       "      <th>precision -</th>\n",
       "    </tr>\n",
       "  </thead>\n",
       "  <tbody>\n",
       "    <tr>\n",
       "      <th>DummyClassifier</th>\n",
       "      <td>0.751628</td>\n",
       "      <td>1.000000</td>\n",
       "      <td>0.751628</td>\n",
       "      <td>0.000000</td>\n",
       "      <td>0.000000</td>\n",
       "      <td>0.000000</td>\n",
       "    </tr>\n",
       "    <tr>\n",
       "      <th>LogisticRegression</th>\n",
       "      <td>0.740226</td>\n",
       "      <td>0.970752</td>\n",
       "      <td>0.754251</td>\n",
       "      <td>0.072606</td>\n",
       "      <td>0.042623</td>\n",
       "      <td>0.346905</td>\n",
       "    </tr>\n",
       "    <tr>\n",
       "      <th>SVC</th>\n",
       "      <td>NaN</td>\n",
       "      <td>NaN</td>\n",
       "      <td>NaN</td>\n",
       "      <td>NaN</td>\n",
       "      <td>NaN</td>\n",
       "      <td>NaN</td>\n",
       "    </tr>\n",
       "    <tr>\n",
       "      <th>DecisionTreeClassifier</th>\n",
       "      <td>0.635995</td>\n",
       "      <td>0.747526</td>\n",
       "      <td>0.763606</td>\n",
       "      <td>0.287662</td>\n",
       "      <td>0.298361</td>\n",
       "      <td>0.278632</td>\n",
       "    </tr>\n",
       "    <tr>\n",
       "      <th>RandomForestClassifier</th>\n",
       "      <td>0.751628</td>\n",
       "      <td>1.000000</td>\n",
       "      <td>0.751628</td>\n",
       "      <td>0.000000</td>\n",
       "      <td>0.000000</td>\n",
       "      <td>0.000000</td>\n",
       "    </tr>\n",
       "    <tr>\n",
       "      <th>KNeighborsClassifier</th>\n",
       "      <td>NaN</td>\n",
       "      <td>NaN</td>\n",
       "      <td>NaN</td>\n",
       "      <td>NaN</td>\n",
       "      <td>NaN</td>\n",
       "      <td>NaN</td>\n",
       "    </tr>\n",
       "    <tr>\n",
       "      <th>XGBClassifier</th>\n",
       "      <td>NaN</td>\n",
       "      <td>NaN</td>\n",
       "      <td>NaN</td>\n",
       "      <td>NaN</td>\n",
       "      <td>NaN</td>\n",
       "      <td>NaN</td>\n",
       "    </tr>\n",
       "  </tbody>\n",
       "</table>\n",
       "</div>"
      ],
      "text/plain": [
       "                        accuracy precision    recall  F1-score  recall -  \\\n",
       "DummyClassifier         0.751628  1.000000  0.751628  0.000000  0.000000   \n",
       "LogisticRegression      0.740226  0.970752  0.754251  0.072606  0.042623   \n",
       "SVC                          NaN       NaN       NaN       NaN       NaN   \n",
       "DecisionTreeClassifier  0.635995  0.747526  0.763606  0.287662  0.298361   \n",
       "RandomForestClassifier  0.751628  1.000000  0.751628  0.000000  0.000000   \n",
       "KNeighborsClassifier         NaN       NaN       NaN       NaN       NaN   \n",
       "XGBClassifier                NaN       NaN       NaN       NaN       NaN   \n",
       "\n",
       "                       precision -  \n",
       "DummyClassifier           0.000000  \n",
       "LogisticRegression        0.346905  \n",
       "SVC                            NaN  \n",
       "DecisionTreeClassifier    0.278632  \n",
       "RandomForestClassifier    0.000000  \n",
       "KNeighborsClassifier           NaN  \n",
       "XGBClassifier                  NaN  "
      ]
     },
     "execution_count": 17,
     "metadata": {},
     "output_type": "execute_result"
    }
   ],
   "source": [
    "scores_df.loc[type(clf).__name__] = mean_scores.values[2:]\n",
    "scores_df"
   ]
  },
  {
   "cell_type": "code",
   "execution_count": 18,
   "metadata": {},
   "outputs": [
    {
     "data": {
      "text/plain": [
       "fit_time            0.153516\n",
       "score_time          3.255587\n",
       "test_accuracy       0.724002\n",
       "test_precision      0.937239\n",
       "test_recall         0.754304\n",
       "test_F1-score       0.125785\n",
       "test_recall -       0.078689\n",
       "test_precision -    0.360684\n",
       "dtype: float64"
      ]
     },
     "execution_count": 18,
     "metadata": {},
     "output_type": "execute_result"
    }
   ],
   "source": [
    "clf = KNeighborsClassifier()\n",
    "scores = cross_validate(clf, X, y, cv=5, scoring=scoring, n_jobs=-1)\n",
    "mean_scores = pd.DataFrame(scores).apply(np.mean)\n",
    "mean_scores"
   ]
  },
  {
   "cell_type": "code",
   "execution_count": 19,
   "metadata": {},
   "outputs": [
    {
     "data": {
      "text/html": [
       "<div>\n",
       "<style scoped>\n",
       "    .dataframe tbody tr th:only-of-type {\n",
       "        vertical-align: middle;\n",
       "    }\n",
       "\n",
       "    .dataframe tbody tr th {\n",
       "        vertical-align: top;\n",
       "    }\n",
       "\n",
       "    .dataframe thead th {\n",
       "        text-align: right;\n",
       "    }\n",
       "</style>\n",
       "<table border=\"1\" class=\"dataframe\">\n",
       "  <thead>\n",
       "    <tr style=\"text-align: right;\">\n",
       "      <th></th>\n",
       "      <th>accuracy</th>\n",
       "      <th>precision</th>\n",
       "      <th>recall</th>\n",
       "      <th>F1-score</th>\n",
       "      <th>recall -</th>\n",
       "      <th>precision -</th>\n",
       "    </tr>\n",
       "  </thead>\n",
       "  <tbody>\n",
       "    <tr>\n",
       "      <th>DummyClassifier</th>\n",
       "      <td>0.751628</td>\n",
       "      <td>1.000000</td>\n",
       "      <td>0.751628</td>\n",
       "      <td>0.000000</td>\n",
       "      <td>0.000000</td>\n",
       "      <td>0.000000</td>\n",
       "    </tr>\n",
       "    <tr>\n",
       "      <th>LogisticRegression</th>\n",
       "      <td>0.740226</td>\n",
       "      <td>0.970752</td>\n",
       "      <td>0.754251</td>\n",
       "      <td>0.072606</td>\n",
       "      <td>0.042623</td>\n",
       "      <td>0.346905</td>\n",
       "    </tr>\n",
       "    <tr>\n",
       "      <th>SVC</th>\n",
       "      <td>NaN</td>\n",
       "      <td>NaN</td>\n",
       "      <td>NaN</td>\n",
       "      <td>NaN</td>\n",
       "      <td>NaN</td>\n",
       "      <td>NaN</td>\n",
       "    </tr>\n",
       "    <tr>\n",
       "      <th>DecisionTreeClassifier</th>\n",
       "      <td>0.635995</td>\n",
       "      <td>0.747526</td>\n",
       "      <td>0.763606</td>\n",
       "      <td>0.287662</td>\n",
       "      <td>0.298361</td>\n",
       "      <td>0.278632</td>\n",
       "    </tr>\n",
       "    <tr>\n",
       "      <th>RandomForestClassifier</th>\n",
       "      <td>0.751628</td>\n",
       "      <td>1.000000</td>\n",
       "      <td>0.751628</td>\n",
       "      <td>0.000000</td>\n",
       "      <td>0.000000</td>\n",
       "      <td>0.000000</td>\n",
       "    </tr>\n",
       "    <tr>\n",
       "      <th>KNeighborsClassifier</th>\n",
       "      <td>0.724002</td>\n",
       "      <td>0.937239</td>\n",
       "      <td>0.754304</td>\n",
       "      <td>0.125785</td>\n",
       "      <td>0.078689</td>\n",
       "      <td>0.360684</td>\n",
       "    </tr>\n",
       "    <tr>\n",
       "      <th>XGBClassifier</th>\n",
       "      <td>NaN</td>\n",
       "      <td>NaN</td>\n",
       "      <td>NaN</td>\n",
       "      <td>NaN</td>\n",
       "      <td>NaN</td>\n",
       "      <td>NaN</td>\n",
       "    </tr>\n",
       "  </tbody>\n",
       "</table>\n",
       "</div>"
      ],
      "text/plain": [
       "                        accuracy precision    recall  F1-score  recall -  \\\n",
       "DummyClassifier         0.751628  1.000000  0.751628  0.000000  0.000000   \n",
       "LogisticRegression      0.740226  0.970752  0.754251  0.072606  0.042623   \n",
       "SVC                          NaN       NaN       NaN       NaN       NaN   \n",
       "DecisionTreeClassifier  0.635995  0.747526  0.763606  0.287662  0.298361   \n",
       "RandomForestClassifier  0.751628  1.000000  0.751628  0.000000  0.000000   \n",
       "KNeighborsClassifier    0.724002  0.937239  0.754304  0.125785  0.078689   \n",
       "XGBClassifier                NaN       NaN       NaN       NaN       NaN   \n",
       "\n",
       "                       precision -  \n",
       "DummyClassifier           0.000000  \n",
       "LogisticRegression        0.346905  \n",
       "SVC                            NaN  \n",
       "DecisionTreeClassifier    0.278632  \n",
       "RandomForestClassifier    0.000000  \n",
       "KNeighborsClassifier      0.360684  \n",
       "XGBClassifier                  NaN  "
      ]
     },
     "execution_count": 19,
     "metadata": {},
     "output_type": "execute_result"
    }
   ],
   "source": [
    "scores_df.loc[type(clf).__name__] = mean_scores.values[2:]\n",
    "scores_df"
   ]
  },
  {
   "cell_type": "code",
   "execution_count": 9,
   "metadata": {},
   "outputs": [],
   "source": [
    "y = np.where(y == 1, 0, 1)"
   ]
  },
  {
   "cell_type": "code",
   "execution_count": 10,
   "metadata": {},
   "outputs": [
    {
     "data": {
      "text/plain": [
       "array([0, 1])"
      ]
     },
     "execution_count": 10,
     "metadata": {},
     "output_type": "execute_result"
    }
   ],
   "source": [
    "np.unique(y)"
   ]
  },
  {
   "cell_type": "code",
   "execution_count": null,
   "metadata": {},
   "outputs": [],
   "source": [
    "clf = XGBClassifier(n_estimators=10,\n",
    "                    use_label_encoder=False,\n",
    "                    scale_pos_weight=10,\n",
    "                    learning_rate=0.1,\n",
    "                    max_depth=10)\n",
    "\n",
    "skf = StratifiedKFold(n_splits=5, shuffle=True, random_state=42)\n",
    "\n",
    "scores = {'accuracy': [],\n",
    "          'precision': [],\n",
    "          'recall': [],\n",
    "          'F1-score': [],\n",
    "          'recall -': [],\n",
    "          'precision -': [],\n",
    "          }\n",
    "\n",
    "for train_index, val_index in skf.split(X, y):\n",
    "    X_train, X_val = X[train_index], X[val_index]\n",
    "    y_train, y_val = y[train_index], y[val_index]\n",
    "\n",
    "    clf.fit(X_train, y_train,\n",
    "            eval_set=[(X_train, y_train), (X_val, y_val)],\n",
    "            eval_metric='error',\n",
    "            early_stopping_rounds=4,\n",
    "            verbose=True)\n",
    "\n",
    "    print('___')\n",
    "\n",
    "    scores['accuracy'].append(accuracy_score(y_val, clf.predict(X_val)))\n",
    "    scores['precision'].append(precision_score(y_val, clf.predict(X_val)))\n",
    "    scores['recall'].append(recall_score(y_val, clf.predict(X_val)))\n",
    "    scores['F1-score'].append(f1_score(y_val, clf.predict(X_val)))\n",
    "    scores['recall -'].append(recall_score(y_val, clf.predict(X_val), pos_label=0))\n",
    "    scores['precision -'].append(precision_score(y_val, clf.predict(X_val), pos_label=0, zero_division=0))\n",
    "\n",
    "mean_scores = pd.DataFrame(scores).apply(np.mean)\n",
    "mean_scores"
   ]
  },
  {
   "cell_type": "code",
   "execution_count": 46,
   "metadata": {},
   "outputs": [
    {
     "data": {
      "text/plain": [
       "accuracy       0.750000\n",
       "precision      0.757872\n",
       "recall         0.981081\n",
       "F1-score       0.855143\n",
       "recall -       0.049180\n",
       "precision -    0.412500\n",
       "dtype: float64"
      ]
     },
     "execution_count": 46,
     "metadata": {},
     "output_type": "execute_result"
    }
   ],
   "source": [
    "mean_scores = pd.DataFrame(scores).apply(np.mean)\n",
    "mean_scores"
   ]
  },
  {
   "cell_type": "code",
   "execution_count": null,
   "metadata": {},
   "outputs": [
    {
     "data": {
      "text/html": [
       "<div>\n",
       "<style scoped>\n",
       "    .dataframe tbody tr th:only-of-type {\n",
       "        vertical-align: middle;\n",
       "    }\n",
       "\n",
       "    .dataframe tbody tr th {\n",
       "        vertical-align: top;\n",
       "    }\n",
       "\n",
       "    .dataframe thead th {\n",
       "        text-align: right;\n",
       "    }\n",
       "</style>\n",
       "<table border=\"1\" class=\"dataframe\">\n",
       "  <thead>\n",
       "    <tr style=\"text-align: right;\">\n",
       "      <th></th>\n",
       "      <th>accuracy</th>\n",
       "      <th>precision</th>\n",
       "      <th>recall</th>\n",
       "      <th>F1-score</th>\n",
       "      <th>recall -</th>\n",
       "      <th>precision -</th>\n",
       "    </tr>\n",
       "  </thead>\n",
       "  <tbody>\n",
       "    <tr>\n",
       "      <th>DummyClassifier</th>\n",
       "      <td>0.687833</td>\n",
       "      <td>0.687833</td>\n",
       "      <td>1.0</td>\n",
       "      <td>0.815048</td>\n",
       "      <td>0.0</td>\n",
       "      <td>0.0</td>\n",
       "    </tr>\n",
       "    <tr>\n",
       "      <th>LogisticRegression</th>\n",
       "      <td>NaN</td>\n",
       "      <td>NaN</td>\n",
       "      <td>NaN</td>\n",
       "      <td>NaN</td>\n",
       "      <td>NaN</td>\n",
       "      <td>NaN</td>\n",
       "    </tr>\n",
       "    <tr>\n",
       "      <th>SVC</th>\n",
       "      <td>NaN</td>\n",
       "      <td>NaN</td>\n",
       "      <td>NaN</td>\n",
       "      <td>NaN</td>\n",
       "      <td>NaN</td>\n",
       "      <td>NaN</td>\n",
       "    </tr>\n",
       "    <tr>\n",
       "      <th>DecisionTreeClassifier</th>\n",
       "      <td>NaN</td>\n",
       "      <td>NaN</td>\n",
       "      <td>NaN</td>\n",
       "      <td>NaN</td>\n",
       "      <td>NaN</td>\n",
       "      <td>NaN</td>\n",
       "    </tr>\n",
       "    <tr>\n",
       "      <th>RandomForestClassifier</th>\n",
       "      <td>NaN</td>\n",
       "      <td>NaN</td>\n",
       "      <td>NaN</td>\n",
       "      <td>NaN</td>\n",
       "      <td>NaN</td>\n",
       "      <td>NaN</td>\n",
       "    </tr>\n",
       "    <tr>\n",
       "      <th>KNeighborsClassifier</th>\n",
       "      <td>NaN</td>\n",
       "      <td>NaN</td>\n",
       "      <td>NaN</td>\n",
       "      <td>NaN</td>\n",
       "      <td>NaN</td>\n",
       "      <td>NaN</td>\n",
       "    </tr>\n",
       "    <tr>\n",
       "      <th>XGBClassifier</th>\n",
       "      <td>0.996978</td>\n",
       "      <td>1.0</td>\n",
       "      <td>0.995604</td>\n",
       "      <td>0.997787</td>\n",
       "      <td>1.0</td>\n",
       "      <td>0.990614</td>\n",
       "    </tr>\n",
       "  </tbody>\n",
       "</table>\n",
       "</div>"
      ],
      "text/plain": [
       "                        accuracy precision    recall  F1-score recall -  \\\n",
       "DummyClassifier         0.687833  0.687833       1.0  0.815048      0.0   \n",
       "LogisticRegression           NaN       NaN       NaN       NaN      NaN   \n",
       "SVC                          NaN       NaN       NaN       NaN      NaN   \n",
       "DecisionTreeClassifier       NaN       NaN       NaN       NaN      NaN   \n",
       "RandomForestClassifier       NaN       NaN       NaN       NaN      NaN   \n",
       "KNeighborsClassifier         NaN       NaN       NaN       NaN      NaN   \n",
       "XGBClassifier           0.996978       1.0  0.995604  0.997787      1.0   \n",
       "\n",
       "                       precision -  \n",
       "DummyClassifier                0.0  \n",
       "LogisticRegression             NaN  \n",
       "SVC                            NaN  \n",
       "DecisionTreeClassifier         NaN  \n",
       "RandomForestClassifier         NaN  \n",
       "KNeighborsClassifier           NaN  \n",
       "XGBClassifier             0.990614  "
      ]
     },
     "metadata": {},
     "output_type": "display_data"
    }
   ],
   "source": [
    "scores_df.loc[type(clf).__name__] = mean_scores.values\n",
    "scores_df"
   ]
  },
  {
   "cell_type": "code",
   "execution_count": 47,
   "metadata": {},
   "outputs": [],
   "source": [
    "pca = PCA(n_components=2)\n",
    "X_pca2 = pca.fit_transform(X)"
   ]
  },
  {
   "cell_type": "code",
   "execution_count": 50,
   "metadata": {},
   "outputs": [
    {
     "data": {
      "image/png": "[encoded data removed]",
      "text/plain": [
       "<Figure size 432x288 with 1 Axes>"
      ]
     },
     "metadata": {
      "needs_background": "light"
     },
     "output_type": "display_data"
    }
   ],
   "source": [
    "colors = y[y == 0]\n",
    "plt.scatter(X_pca2[:,0], X_pca2[:,1], c=y);"
   ]
  },
  {
   "cell_type": "code",
   "execution_count": 51,
   "metadata": {},
   "outputs": [],
   "source": [
    "embedding = MDS(n_components=2)"
   ]
  },
  {
   "cell_type": "code",
   "execution_count": 52,
   "metadata": {},
   "outputs": [],
   "source": [
    "X_MDS = embedding.fit_transform(X)"
   ]
  },
  {
   "cell_type": "code",
   "execution_count": 53,
   "metadata": {},
   "outputs": [
    {
     "data": {
      "image/png": "[encoded data removed]",
      "text/plain": [
       "<Figure size 432x288 with 1 Axes>"
      ]
     },
     "metadata": {
      "needs_background": "light"
     },
     "output_type": "display_data"
    }
   ],
   "source": [
    "plt.scatter(X_MDS[:,0], X_MDS[:,1], c=y);"
   ]
  },
  {
   "cell_type": "code",
   "execution_count": 54,
   "metadata": {},
   "outputs": [
    {
     "data": {
      "text/plain": [
       "(1228, 2)"
      ]
     },
     "execution_count": 54,
     "metadata": {},
     "output_type": "execute_result"
    }
   ],
   "source": [
    "X_TSNE = TSNE().fit_transform(X)\n",
    "X_TSNE.shape"
   ]
  },
  {
   "cell_type": "code",
   "execution_count": 55,
   "metadata": {},
   "outputs": [
    {
     "data": {
      "image/png": "[encoded data removed]",
      "text/plain": [
       "<Figure size 432x288 with 1 Axes>"
      ]
     },
     "metadata": {
      "needs_background": "light"
     },
     "output_type": "display_data"
    }
   ],
   "source": [
    "plt.scatter(X_TSNE[:,0], X_TSNE[:,1], c=y);"
   ]
  },
  {
   "cell_type": "code",
   "execution_count": 71,
   "metadata": {},
   "outputs": [
    {
     "name": "stdout",
     "output_type": "stream",
     "text": [
      "[t-SNE] Computing pairwise distances...\n",
      "[t-SNE] Computed conditional probabilities for sample 1000 / 1228\n",
      "[t-SNE] Computed conditional probabilities for sample 1228 / 1228\n",
      "[t-SNE] Mean sigma: 21.134376\n",
      "[t-SNE] Iteration 50: error = 49.5744764, gradient norm = 0.0530863 (50 iterations in 22.841s)\n",
      "[t-SNE] Iteration 100: error = 51.0131159, gradient norm = 0.0657304 (50 iterations in 30.787s)\n",
      "[t-SNE] Iteration 150: error = 50.9811486, gradient norm = 0.0476354 (50 iterations in 24.547s)\n",
      "[t-SNE] Iteration 200: error = 50.9558207, gradient norm = 0.0499528 (50 iterations in 19.081s)\n",
      "[t-SNE] Iteration 250: error = 50.8649208, gradient norm = 0.0487015 (50 iterations in 22.938s)\n",
      "[t-SNE] KL divergence after 250 iterations with early exaggeration: 50.864921\n",
      "[t-SNE] KL divergence after 251 iterations: 179769313486231570814527423731704356798070567525844996598917476803157260780028538760589558632766878171540458953514382464234321326889464182768467546703537516986049910576551282076245490090389328944075868508455133942304583236903222948165808559332123348274797826204144723168738177180919299881250404026184124858368.000000\n"
     ]
    },
    {
     "data": {
      "text/plain": [
       "(1228, 64)"
      ]
     },
     "execution_count": 71,
     "metadata": {},
     "output_type": "execute_result"
    }
   ],
   "source": [
    "X_TSNE = TSNE(n_components=64, method='exact', n_iter=250, verbose=100, n_jobs=-1).fit_transform(X)\n",
    "X_TSNE.shape"
   ]
  },
  {
   "cell_type": "code",
   "execution_count": null,
   "metadata": {},
   "outputs": [],
   "source": [
    "clf = XGBClassifier(n_estimators=30,\n",
    "                    use_label_encoder=False,\n",
    "                    scale_pos_weight=3,\n",
    "                    learning_rate=0.1,\n",
    "                    max_depth=10)\n",
    "\n",
    "\n",
    "scores = {'accuracy': [],\n",
    "          'precision': [],\n",
    "          'recall': [],\n",
    "          'F1-score': [],\n",
    "          'recall -': [],\n",
    "          'precision -': [],\n",
    "          }\n",
    "\n",
    "X_train, X_val, y_train, y_val = train_test_split(X, y,\n",
    "                                                  test_size=0.2,\n",
    "                                                  shuffle=True,\n",
    "                                                  stratify=y,\n",
    "                                                  random_state=42)\n",
    "\n",
    "clf.fit(X_train, y_train,\n",
    "        eval_set=[(X_train, y_train), (X_val, y_val)],\n",
    "        eval_metric='error',\n",
    "        # early_stopping_rounds=4,\n",
    "        verbose=True)\n",
    "\n",
    "print('___')\n",
    "\n",
    "scores['accuracy'].append(accuracy_score(y_val, clf.predict(X_val)))\n",
    "scores['precision'].append(precision_score(y_val, clf.predict(X_val)))\n",
    "scores['recall'].append(recall_score(y_val, clf.predict(X_val)))\n",
    "scores['F1-score'].append(f1_score(y_val, clf.predict(X_val)))\n",
    "scores['recall -'].append(recall_score(y_val, clf.predict(X_val), pos_label=0))\n",
    "scores['precision -'].append(precision_score(y_val, clf.predict(X_val), pos_label=0, zero_division=0))\n",
    "\n",
    "scores\n"
   ]
  },
  {
   "cell_type": "code",
   "execution_count": 27,
   "metadata": {},
   "outputs": [],
   "source": [
    "from imblearn.over_sampling import SMOTE\n",
    "from imblearn.under_sampling import RandomUnderSampler"
   ]
  },
  {
   "cell_type": "code",
   "execution_count": 36,
   "metadata": {},
   "outputs": [
    {
     "data": {
      "text/plain": [
       "((1228, 67925), (1228,), (array([0, 1]), array([305, 923])))"
      ]
     },
     "execution_count": 36,
     "metadata": {},
     "output_type": "execute_result"
    }
   ],
   "source": [
    "X.shape, y.shape, np.unique(y, return_counts=True)"
   ]
  },
  {
   "cell_type": "code",
   "execution_count": 12,
   "metadata": {},
   "outputs": [],
   "source": [
    "test_index_0 = np.random.choice(np.argwhere(y == 0)[:, 0], size=100, replace=False)\n",
    "test_index_1 = np.random.choice(np.argwhere(y == 1)[:, 0], size=100, replace=False)\n",
    "test_index = np.append(test_index_0, test_index_1)\n",
    "X_test, y_test = X[test_index], y[test_index]"
   ]
  },
  {
   "cell_type": "code",
   "execution_count": 13,
   "metadata": {},
   "outputs": [],
   "source": [
    "mask = np.ones(len(X), bool)\n",
    "mask[test_index] = 0\n",
    "X_train, y_train = X[mask], y[mask]"
   ]
  },
  {
   "cell_type": "code",
   "execution_count": 14,
   "metadata": {},
   "outputs": [
    {
     "data": {
      "text/plain": [
       "((1028, 67925), (1028,), (array([0, 1]), array([205, 823])))"
      ]
     },
     "execution_count": 14,
     "metadata": {},
     "output_type": "execute_result"
    }
   ],
   "source": [
    "X_train.shape, y_train.shape, np.unique(y_train, return_counts=True)"
   ]
  },
  {
   "cell_type": "code",
   "execution_count": 15,
   "metadata": {},
   "outputs": [
    {
     "data": {
      "text/plain": [
       "((200, 67925), (200,), (array([0, 1]), array([100, 100])))"
      ]
     },
     "execution_count": 15,
     "metadata": {},
     "output_type": "execute_result"
    }
   ],
   "source": [
    "X_test.shape, y_test.shape, np.unique(y_test, return_counts=True)"
   ]
  },
  {
   "cell_type": "code",
   "execution_count": 43,
   "metadata": {},
   "outputs": [],
   "source": [
    "sampler = SMOTE(k_neighbors=1, n_jobs=-1, random_state=42)\n",
    "X_train_res, y_train_res = sampler.fit_resample(X_train, y_train)"
   ]
  },
  {
   "cell_type": "code",
   "execution_count": 74,
   "metadata": {},
   "outputs": [],
   "source": [
    "sampler = RandomUnderSampler(random_state=42)\n",
    "X_train_res, y_train_res = sampler.fit_resample(X_train, y_train)"
   ]
  },
  {
   "cell_type": "code",
   "execution_count": 75,
   "metadata": {},
   "outputs": [
    {
     "data": {
      "text/plain": [
       "(array([0, 1]), array([205, 205]))"
      ]
     },
     "execution_count": 75,
     "metadata": {},
     "output_type": "execute_result"
    }
   ],
   "source": [
    "np.unique(y_train_res, return_counts=True)"
   ]
  },
  {
   "cell_type": "code",
   "execution_count": 50,
   "metadata": {},
   "outputs": [
    {
     "name": "stdout",
     "output_type": "stream",
     "text": [
      "[0]\tvalidation_0-error:0.80058\tvalidation_1-error:0.50000\n",
      "[1]\tvalidation_0-error:0.80058\tvalidation_1-error:0.50000\n",
      "[2]\tvalidation_0-error:0.80058\tvalidation_1-error:0.50000\n",
      "[3]\tvalidation_0-error:0.80058\tvalidation_1-error:0.50000\n",
      "[4]\tvalidation_0-error:0.80058\tvalidation_1-error:0.50000\n",
      "[5]\tvalidation_0-error:0.80058\tvalidation_1-error:0.50000\n",
      "[6]\tvalidation_0-error:0.80058\tvalidation_1-error:0.50000\n",
      "[7]\tvalidation_0-error:0.80058\tvalidation_1-error:0.50000\n",
      "[8]\tvalidation_0-error:0.80058\tvalidation_1-error:0.50000\n",
      "[9]\tvalidation_0-error:0.80058\tvalidation_1-error:0.50000\n",
      "[10]\tvalidation_0-error:0.80058\tvalidation_1-error:0.50000\n",
      "[11]\tvalidation_0-error:0.80058\tvalidation_1-error:0.50000\n",
      "[12]\tvalidation_0-error:0.80058\tvalidation_1-error:0.50000\n",
      "[13]\tvalidation_0-error:0.80058\tvalidation_1-error:0.50000\n",
      "[14]\tvalidation_0-error:0.80058\tvalidation_1-error:0.50000\n",
      "___\n"
     ]
    },
    {
     "name": "stderr",
     "output_type": "stream",
     "text": [
      "/home/stasvlad/.local/lib/python3.8/site-packages/sklearn/metrics/_classification.py:1245: UndefinedMetricWarning: Precision is ill-defined and being set to 0.0 due to no predicted samples. Use `zero_division` parameter to control this behavior.\n",
      "  _warn_prf(average, modifier, msg_start, len(result))\n"
     ]
    },
    {
     "data": {
      "text/plain": [
       "{'accuracy': [0.5],\n",
       " 'precision': [0.0],\n",
       " 'recall': [0.0],\n",
       " 'F1-score': [0.0],\n",
       " 'recall -': [1.0],\n",
       " 'precision -': [0.5]}"
      ]
     },
     "execution_count": 50,
     "metadata": {},
     "output_type": "execute_result"
    }
   ],
   "source": [
    "clf = XGBClassifier(n_estimators=150,\n",
    "                    use_label_encoder=False,\n",
    "                    scale_pos_weight=0.000001,\n",
    "                    learning_rate=0.05,\n",
    "                    min_child_weight=50,\n",
    "                    max_depth=3)\n",
    "\n",
    "\n",
    "scores = {'accuracy': [],\n",
    "          'precision': [],\n",
    "          'recall': [],\n",
    "          'F1-score': [],\n",
    "          'recall -': [],\n",
    "          'precision -': [],\n",
    "          }\n",
    "\n",
    "X_train, y_train = X_train, y_train\n",
    "\n",
    "clf.fit(X_train, y_train,\n",
    "        eval_set=[(X_train, y_train), (X_test, y_test)],\n",
    "        eval_metric='error',\n",
    "        early_stopping_rounds=15,\n",
    "        verbose=True)\n",
    "\n",
    "print('___')\n",
    "\n",
    "scores['accuracy'].append(accuracy_score(y_test, clf.predict(X_test)))\n",
    "scores['precision'].append(precision_score(y_test, clf.predict(X_test)))\n",
    "scores['recall'].append(recall_score(y_test, clf.predict(X_test)))\n",
    "scores['F1-score'].append(f1_score(y_test, clf.predict(X_test)))\n",
    "scores['recall -'].append(recall_score(y_test, clf.predict(X_test), pos_label=0))\n",
    "scores['precision -'].append(precision_score(y_test, clf.predict(X_test), pos_label=0, zero_division=0))\n",
    "\n",
    "scores"
   ]
  },
  {
   "cell_type": "code",
   "execution_count": 63,
   "metadata": {},
   "outputs": [],
   "source": [
    "f = np.apply_along_axis(lambda x: np.unique(x, return_counts=True)[1], 1, arr=X)"
   ]
  }
 ],
 "metadata": {
  "interpreter": {
   "hash": "e7370f93d1d0cde622a1f8e1c04877d8463912d04d973331ad4851f04de6915a"
  },
  "kernelspec": {
   "display_name": "Python 3.8.10 64-bit",
   "name": "python3"
  },
  "language_info": {
   "codemirror_mode": {
    "name": "ipython",
    "version": 3
   },
   "file_extension": ".py",
   "mimetype": "text/x-python",
   "name": "python",
   "nbconvert_exporter": "python",
   "pygments_lexer": "ipython3",
   "version": "3.8.10"
  },
  "orig_nbformat": 4
 },
 "nbformat": 4,
 "nbformat_minor": 2
}
